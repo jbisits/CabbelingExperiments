{
 "cells": [
  {
   "cell_type": "markdown",
   "metadata": {},
   "source": [
    "# Energetic analysis\n",
    "\n",
    "This notebook contains analysis of the energetics in the simulations (cabbeling and isothermal) I have been running.\n",
    "\n",
    "During the simulation the volume integrated kinetic energy $E_{k}$ and volume intergrated turbluent kinetic energy dissipation rate, $\\epsilon$, are computed and saved.\n",
    "In post processing, the potential energy $E_{p}$ and background potential energy $E_{b}$ are computed.\n",
    "From these two quantities the available potential energy $E_{a}$ is then computed.\n",
    "\n",
    "## On fly calculations\n",
    "\n",
    "The on fly calculations are computed using [`KineticEnergy`](https://tomchor.github.io/Oceanostics.jl/dev/library/#Oceanostics.TKEBudgetTerms.KineticEnergy-NTuple{4,%20Any}) and [`KineticEnergyDissipationRate`](https://tomchor.github.io/Oceanostics.jl/dev/library/#Oceanostics.TKEBudgetTerms.KineticEnergyDissipationRate-Tuple{Any}) from [Oceanostics.jl](https://github.com/tomchor/Oceanostics.jl).\n",
    "After some dimensional analysis, both the volume integrated $E_{k}$ and volume integrated $\\epsilon$ need to be **multiplied by the simulation reference density** to have the correct units.\n",
    "\n",
    "## Post processing calculations\n",
    "\n",
    "The potential energy is computed using\n",
    "\n",
    "$$\n",
    "E_{p} = \\int_{V}g\\rho z\\mathrm{d}V\n",
    "$$\n",
    "\n",
    "which has the correct units.\n",
    "$E_{b}$ is computed in the same way but with a sort $z$ cooridinate $z_{*}$, giving correct units for this and the subsequent APE.\n",
    "\n",
    "## Closing the energy budget\n",
    "\n",
    "We close the energy budget using these computed terms and equations (21), (22) and (23)\n",
    "\n",
    "$$\n",
    "\\begin{aligned}\n",
    "\\frac{\\mathrm{d}E_{p}}{\\mathrm{d}t} &= \\Phi_{z} + \\Phi_{i} \\\\\n",
    "\\frac{\\mathrm{d}E_{b}}{\\mathrm{d}t} &= \\Phi_{d} \\\\\n",
    "\\frac{\\mathrm{d}E_{a}}{\\mathrm{d}t} &= \\Phi_{z} - \\left(\\Phi_{d} - \\Phi_{i}\\right),\n",
    "\\end{aligned}\n",
    "$$\n",
    "\n",
    "and equation (9) from Winters et al. (1995),\n",
    "\n",
    "$$\n",
    "\\frac{\\mathrm{d}E_{k}}{\\mathrm{d}t} = -\\underbrace{\\int_{V}g\\rho w\\mathrm{d}V}_{\\Phi_{z}} - \\epsilon.\n",
    "$$\n",
    "\n",
    "The terms are:\n",
    "\n",
    "- $\\Phi_{z}$, reversible buoyancy flux;\n",
    "- $\\Phi_{d}$, irreversible diapycnal mixing;\n",
    "- $\\Phi_{i}$, irreversible conversion of internal to potential energy."
   ]
  },
  {
   "cell_type": "code",
   "execution_count": null,
   "metadata": {},
   "outputs": [],
   "source": [
    "cd(\"/g/data/e14/jb2381/CabbelingExperiments\")\n",
    "using Pkg\n",
    "Pkg.activate(@__DIR__)\n",
    "using NCDatasets, CairoMakie, TwoLayerDirectNumericalShenanigans, StatsBase, Printf"
   ]
  },
  {
   "cell_type": "code",
   "execution_count": null,
   "metadata": {},
   "outputs": [],
   "source": [
    "cabbeling_path = joinpath(pwd(), \"outputs_equaldiffusion/cabbeling_stepchange_nothing_660min/\")\n",
    "isothermal_path = joinpath(pwd(), \"outputs_equaldiffusion/isothermal_stepchange_nothing_660min/\")\n",
    "cd(\"notebooks\")"
   ]
  },
  {
   "cell_type": "markdown",
   "metadata": {},
   "source": [
    "# Cabbeling experiments"
   ]
  },
  {
   "cell_type": "code",
   "execution_count": null,
   "metadata": {},
   "outputs": [],
   "source": [
    "cab_tracers = joinpath(cabbeling_path, \"tracers.nc\")\n",
    "cab_computed_output = joinpath(cabbeling_path, \"computed_output.nc\")\n",
    "cab_energetics = joinpath(cabbeling_path, \"energetics.nc\")"
   ]
  },
  {
   "cell_type": "code",
   "execution_count": null,
   "metadata": {},
   "outputs": [],
   "source": [
    "co_ds = NCDataset(cab_computed_output)\n",
    "t = co_ds[:time][:] # seconds\n",
    "Δt = diff(t[1:2])\n",
    "t_mins = t ./ 60\n",
    "find_num = findfirst('k', co_ds.attrib[\"Reference density\"]) - 1\n",
    "ρ₀ = parse(Float64, co_ds.attrib[\"Reference density\"][1:find_num])\n",
    "dV = diff(co_ds[:xC][1:2]) .* diff(co_ds[:yC][1:2]) .* diff(co_ds[:zC][1:2])\n",
    "close(co_ds)\n",
    "\n",
    "en_ds = NCDataset(cab_energetics)\n",
    "∫Eb = en_ds[:∫Eb][:] \n",
    "∫Ep = en_ds[:∫Ep][:]\n",
    "∫ϵ = ρ₀ .* en_ds[:∫ϵ][:]\n",
    "∫Eₖ = ρ₀ .* en_ds[:∫Eₖ][:]\n",
    "close(en_ds)"
   ]
  },
  {
   "cell_type": "code",
   "execution_count": null,
   "metadata": {},
   "outputs": [],
   "source": [
    "APE = ∫Ep .- ∫Eb\n",
    "fig = Figure(size = (1000, 1000))\n",
    "ax = [Axis(fig[i, 1], xlabel = \"Time (s)\", ylabel = \"Energy (Joules, kgm²s⁻²)\") for i ∈ 1:3]\n",
    "lines!(ax[1], t_mins, ∫Eb, label = \"Eb\")\n",
    "lines!(ax[1], t_mins, ∫Ep, label = \"Ep\")\n",
    "hidexdecorations!(ax[1], grid = false)\n",
    "ax[1].title = \"Time evolution of background and potential energy\"\n",
    "axislegend(ax[1], position = :rb)\n",
    "lines!(ax[2], t, APE, color = :red, label = \"APE = Ep - Eb\")\n",
    "axislegend(ax[2])\n",
    "hidexdecorations!(ax[2], grid = false)\n",
    "ax[2].title = \"Time evolution of available potential energy\"\n",
    "lines!(ax[3], t_mins, ∫Eₖ)\n",
    "ax[3].title = \"Time evolution of kinetic Energy\"\n",
    "fig"
   ]
  },
  {
   "cell_type": "code",
   "execution_count": null,
   "metadata": {},
   "outputs": [],
   "source": [
    "dₜEp = diff(∫Ep) ./ Δt\n",
    "dₜEb = diff(∫Eb) ./ Δt\n",
    "dₜEa = diff(∫Ep .- ∫Eb) ./ Δt\n",
    "dₜEₖ = diff(∫Eₖ) / Δt\n",
    "Δϵ = diff(∫ϵ) # This is the only term I am usure about\n",
    "fig = Figure(size = (1000, 1000))\n",
    "ax = [Axis(fig[i, 1], xlabel = \"Time (s)\", ylabel = \"Watts (J/s)\") for i ∈ 1:3]\n",
    "lines!(ax[1], t[1:end-1], dₜEp, label = \"dₜEp\")\n",
    "lines!(ax[1], t[1:end-1], dₜEb, label = \"dₜEb\")\n",
    "hidexdecorations!(ax[1], grid = false)\n",
    "ax[1].title = \"Instantaneous rates of energy changes\"\n",
    "axislegend(ax[1])\n",
    "lines!(ax[2], t[1:end-1], dₜEa, color = :red, label = \"dₜEa\")\n",
    "axislegend(ax[2])\n",
    "lines!(ax[3], t[1:end-1], dₜEₖ, color = :red, label = \"dₜEₖ\")\n",
    "axislegend(ax[3])\n",
    "fig"
   ]
  },
  {
   "cell_type": "code",
   "execution_count": null,
   "metadata": {},
   "outputs": [],
   "source": [
    "Φz = dₜEₖ .+ Δϵ\n",
    "Φd = dₜEb\n",
    "Φi = dₜEp .- Φz\n",
    "fig = Figure(size = (500, 500))\n",
    "ax = Axis(fig[1, 1], xlabel = \"Time (s)\", ylabel = \"watts (J/s)\")\n",
    "lines!(ax, t[1:end-1], Φz, label = \"Φz\")\n",
    "lines!(ax, t[1:end-1], Φd, label = \"Φz\")\n",
    "lines!(ax, t[1:end-1], Φi, label = \"Φi\")\n",
    "lines!(ax, t[1:end-1], Δϵ, label = \"Δϵ\")\n",
    "axislegend(ax)\n",
    "fig"
   ]
  },
  {
   "cell_type": "markdown",
   "metadata": {},
   "source": [
    "# Isothermal experiments"
   ]
  },
  {
   "cell_type": "code",
   "execution_count": null,
   "metadata": {},
   "outputs": [],
   "source": [
    "isothermal_tracers = joinpath(isothermal_path, \"tracers.nc\")\n",
    "isothermal_computed_output = joinpath(isothermal_path, \"computed_output.nc\")\n",
    "isothermal_energetics = joinpath(isothermal_path, \"energetics.nc\")"
   ]
  }
 ],
 "metadata": {
  "kernelspec": {
   "display_name": "Julia 1.9.3",
   "language": "julia",
   "name": "julia-1.9"
  },
  "language_info": {
   "file_extension": ".jl",
   "mimetype": "application/julia",
   "name": "julia",
   "version": "1.9.3"
  }
 },
 "nbformat": 4,
 "nbformat_minor": 2
}
